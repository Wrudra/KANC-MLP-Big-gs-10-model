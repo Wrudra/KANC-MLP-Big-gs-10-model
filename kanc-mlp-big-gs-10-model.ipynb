{
 "cells": [
  {
   "cell_type": "code",
   "execution_count": 1,
   "id": "b79b712e",
   "metadata": {
    "_cell_guid": "b1076dfc-b9ad-4769-8c92-a6c4dae69d19",
    "_uuid": "8f2839f25d086af736a60e9eeb907d3b93b6e0e5",
    "execution": {
     "iopub.execute_input": "2025-03-27T07:44:24.785583Z",
     "iopub.status.busy": "2025-03-27T07:44:24.785297Z",
     "iopub.status.idle": "2025-03-27T07:44:27.599049Z",
     "shell.execute_reply": "2025-03-27T07:44:27.598040Z"
    },
    "papermill": {
     "duration": 2.818306,
     "end_time": "2025-03-27T07:44:27.600377",
     "exception": false,
     "start_time": "2025-03-27T07:44:24.782071",
     "status": "completed"
    },
    "tags": []
   },
   "outputs": [
    {
     "name": "stdout",
     "output_type": "stream",
     "text": [
      "Cloning into '/kaggle/working/Convolutional-KANs'...\r\n",
      "remote: Enumerating objects: 2379, done.\u001b[K\r\n",
      "remote: Counting objects: 100% (409/409), done.\u001b[K\r\n",
      "remote: Compressing objects: 100% (209/209), done.\u001b[K\r\n",
      "remote: Total 2379 (delta 266), reused 311 (delta 196), pack-reused 1970 (from 1)\u001b[K\r\n",
      "Receiving objects: 100% (2379/2379), 45.65 MiB | 36.43 MiB/s, done.\r\n",
      "Resolving deltas: 100% (1286/1286), done.\r\n",
      "/kaggle/working/Convolutional-KANs\n"
     ]
    }
   ],
   "source": [
    "# Clone the CKAN repository into Kaggle's writable working directory\n",
    "!git clone https://github.com/AntonioTepsich/ckan.git /kaggle/working/Convolutional-KANs\n",
    "\n",
    "# Change the current working directory to the cloned repository\n",
    "%cd /kaggle/working/Convolutional-KANs"
   ]
  },
  {
   "cell_type": "code",
   "execution_count": 2,
   "id": "6820550b",
   "metadata": {
    "execution": {
     "iopub.execute_input": "2025-03-27T07:44:27.608302Z",
     "iopub.status.busy": "2025-03-27T07:44:27.608044Z",
     "iopub.status.idle": "2025-03-27T07:44:36.107476Z",
     "shell.execute_reply": "2025-03-27T07:44:36.106505Z"
    },
    "papermill": {
     "duration": 8.505159,
     "end_time": "2025-03-27T07:44:36.109269",
     "exception": false,
     "start_time": "2025-03-27T07:44:27.604110",
     "status": "completed"
    },
    "tags": []
   },
   "outputs": [],
   "source": [
    "import torch\n",
    "import torch.nn as nn\n",
    "import torch.nn.functional as F\n",
    "import torch.optim as optim\n",
    "import torchvision.transforms as transforms\n",
    "from torchvision.datasets import FashionMNIST\n",
    "from torch.utils.data import DataLoader, random_split\n",
    "from kan_convolutional.KANConv import KAN_Convolutional_Layer\n",
    "from sklearn.metrics import precision_score, recall_score, f1_score\n",
    "import numpy as np\n",
    "import matplotlib.pyplot as plt\n",
    "from torch.optim.lr_scheduler import ReduceLROnPlateau"
   ]
  },
  {
   "cell_type": "code",
   "execution_count": 3,
   "id": "21e5e402",
   "metadata": {
    "execution": {
     "iopub.execute_input": "2025-03-27T07:44:36.116952Z",
     "iopub.status.busy": "2025-03-27T07:44:36.116563Z",
     "iopub.status.idle": "2025-03-27T07:44:36.123157Z",
     "shell.execute_reply": "2025-03-27T07:44:36.122320Z"
    },
    "papermill": {
     "duration": 0.011628,
     "end_time": "2025-03-27T07:44:36.124383",
     "exception": false,
     "start_time": "2025-03-27T07:44:36.112755",
     "status": "completed"
    },
    "tags": []
   },
   "outputs": [],
   "source": [
    "class KANC_MLP(nn.Module):\n",
    "    def __init__(self, grid_size: int = 10):\n",
    "        super().__init__()\n",
    "        \n",
    "        # First KAN convolutional layer: 1 input channel to 16 output channels\n",
    "        self.conv1 = KAN_Convolutional_Layer(\n",
    "            in_channels=1,\n",
    "            out_channels=16,\n",
    "            kernel_size=(3,3),\n",
    "            grid_size=grid_size\n",
    "        )\n",
    "        \n",
    "        # Second KAN convolutional layer: 16 input channels to 16 output channels\n",
    "        self.conv2 = KAN_Convolutional_Layer(\n",
    "            in_channels=16,\n",
    "            out_channels=16,\n",
    "            kernel_size=(3,3),\n",
    "            grid_size=grid_size\n",
    "        )\n",
    "        \n",
    "        # Third KAN convolutional layer: 16 input channels to 16 output channels\n",
    "        self.conv3 = KAN_Convolutional_Layer(\n",
    "            in_channels=16,\n",
    "            out_channels=16,\n",
    "            kernel_size=(3,3),\n",
    "            grid_size=grid_size\n",
    "        )\n",
    "        \n",
    "        # Max pooling layer to reduce spatial dimensions\n",
    "        self.pool = nn.MaxPool2d(kernel_size=(2, 2))\n",
    "        \n",
    "        # Flatten layer\n",
    "        self.flat = nn.Flatten()\n",
    "        \n",
    "        # Fully connected layer: Adjusted for new feature map size\n",
    "        # Input: 28x28 → conv1 (26x26) → pool (13x13) → conv2 (11x11) → pool (5x5) → conv3 (3x3) → 3x3x16 = 144\n",
    "        self.linear1 = nn.Linear(144, 10)\n",
    "        \n",
    "        self.name = f\"KANC MLP (Big) (gs = {grid_size})\"\n",
    "\n",
    "    def forward(self, x):\n",
    "        x = self.conv1(x)      # 28x28x1 → 26x26x16\n",
    "        x = self.pool(x)       # 26x26x16 → 13x13x16\n",
    "        x = self.conv2(x)      # 13x13x16 → 11x11x16\n",
    "        x = self.pool(x)       # 11x11x16 → 5x5x16\n",
    "        x = self.conv3(x)      # 5x5x16 → 3x3x16\n",
    "        x = self.flat(x)       # 3x3x16 → 144\n",
    "        x = self.linear1(x)    # 144 → 10\n",
    "        x = F.log_softmax(x, dim=1)\n",
    "        return x"
   ]
  },
  {
   "cell_type": "code",
   "execution_count": 4,
   "id": "5eb354e0",
   "metadata": {
    "execution": {
     "iopub.execute_input": "2025-03-27T07:44:36.131272Z",
     "iopub.status.busy": "2025-03-27T07:44:36.131033Z",
     "iopub.status.idle": "2025-03-27T07:44:42.758511Z",
     "shell.execute_reply": "2025-03-27T07:44:42.757228Z"
    },
    "papermill": {
     "duration": 6.632546,
     "end_time": "2025-03-27T07:44:42.760055",
     "exception": false,
     "start_time": "2025-03-27T07:44:36.127509",
     "status": "completed"
    },
    "tags": []
   },
   "outputs": [
    {
     "name": "stdout",
     "output_type": "stream",
     "text": [
      "Downloading http://fashion-mnist.s3-website.eu-central-1.amazonaws.com/train-images-idx3-ubyte.gz\n",
      "Downloading http://fashion-mnist.s3-website.eu-central-1.amazonaws.com/train-images-idx3-ubyte.gz to /kaggle/working/data/FashionMNIST/raw/train-images-idx3-ubyte.gz\n"
     ]
    },
    {
     "name": "stderr",
     "output_type": "stream",
     "text": [
      "100%|██████████| 26.4M/26.4M [00:02<00:00, 12.2MB/s]\n"
     ]
    },
    {
     "name": "stdout",
     "output_type": "stream",
     "text": [
      "Extracting /kaggle/working/data/FashionMNIST/raw/train-images-idx3-ubyte.gz to /kaggle/working/data/FashionMNIST/raw\n",
      "\n",
      "Downloading http://fashion-mnist.s3-website.eu-central-1.amazonaws.com/train-labels-idx1-ubyte.gz\n",
      "Downloading http://fashion-mnist.s3-website.eu-central-1.amazonaws.com/train-labels-idx1-ubyte.gz to /kaggle/working/data/FashionMNIST/raw/train-labels-idx1-ubyte.gz\n"
     ]
    },
    {
     "name": "stderr",
     "output_type": "stream",
     "text": [
      "100%|██████████| 29.5k/29.5k [00:00<00:00, 211kB/s]\n"
     ]
    },
    {
     "name": "stdout",
     "output_type": "stream",
     "text": [
      "Extracting /kaggle/working/data/FashionMNIST/raw/train-labels-idx1-ubyte.gz to /kaggle/working/data/FashionMNIST/raw\n",
      "\n",
      "Downloading http://fashion-mnist.s3-website.eu-central-1.amazonaws.com/t10k-images-idx3-ubyte.gz\n",
      "Downloading http://fashion-mnist.s3-website.eu-central-1.amazonaws.com/t10k-images-idx3-ubyte.gz to /kaggle/working/data/FashionMNIST/raw/t10k-images-idx3-ubyte.gz\n"
     ]
    },
    {
     "name": "stderr",
     "output_type": "stream",
     "text": [
      "100%|██████████| 4.42M/4.42M [00:01<00:00, 3.95MB/s]\n"
     ]
    },
    {
     "name": "stdout",
     "output_type": "stream",
     "text": [
      "Extracting /kaggle/working/data/FashionMNIST/raw/t10k-images-idx3-ubyte.gz to /kaggle/working/data/FashionMNIST/raw\n",
      "\n",
      "Downloading http://fashion-mnist.s3-website.eu-central-1.amazonaws.com/t10k-labels-idx1-ubyte.gz\n",
      "Downloading http://fashion-mnist.s3-website.eu-central-1.amazonaws.com/t10k-labels-idx1-ubyte.gz to /kaggle/working/data/FashionMNIST/raw/t10k-labels-idx1-ubyte.gz\n"
     ]
    },
    {
     "name": "stderr",
     "output_type": "stream",
     "text": [
      "100%|██████████| 5.15k/5.15k [00:00<00:00, 13.0MB/s]"
     ]
    },
    {
     "name": "stdout",
     "output_type": "stream",
     "text": [
      "Extracting /kaggle/working/data/FashionMNIST/raw/t10k-labels-idx1-ubyte.gz to /kaggle/working/data/FashionMNIST/raw\n",
      "\n"
     ]
    },
    {
     "name": "stderr",
     "output_type": "stream",
     "text": [
      "\n"
     ]
    }
   ],
   "source": [
    "train_transform = transforms.Compose([\n",
    "    transforms.RandomRotation(10),\n",
    "    transforms.RandomAffine(degrees=0, translate=(0.1, 0.1)),\n",
    "    transforms.ToTensor(),\n",
    "    transforms.Normalize((0.5,), (0.5,))\n",
    "])\n",
    "\n",
    "test_transform = transforms.Compose([\n",
    "    transforms.ToTensor(),\n",
    "    transforms.Normalize((0.5,), (0.5,))\n",
    "])\n",
    "\n",
    "full_train_dataset = FashionMNIST(root='/kaggle/working/data', train=True, download=True, transform=train_transform)\n",
    "test_dataset = FashionMNIST(root='/kaggle/working/data', train=False, download=True, transform=test_transform)\n",
    "\n",
    "train_size = int(0.8 * len(full_train_dataset))\n",
    "val_size = len(full_train_dataset) - train_size\n",
    "train_dataset, val_dataset = random_split(full_train_dataset, [train_size, val_size])\n",
    "\n",
    "train_loader = DataLoader(train_dataset, batch_size=32, shuffle=True, num_workers=2)\n",
    "val_loader = DataLoader(val_dataset, batch_size=32, shuffle=False, num_workers=2)\n",
    "test_loader = DataLoader(test_dataset, batch_size=32, shuffle=False, num_workers=2)"
   ]
  },
  {
   "cell_type": "code",
   "execution_count": 5,
   "id": "364c7f10",
   "metadata": {
    "execution": {
     "iopub.execute_input": "2025-03-27T07:44:42.771555Z",
     "iopub.status.busy": "2025-03-27T07:44:42.771300Z",
     "iopub.status.idle": "2025-03-27T07:44:43.760941Z",
     "shell.execute_reply": "2025-03-27T07:44:43.760015Z"
    },
    "papermill": {
     "duration": 0.996757,
     "end_time": "2025-03-27T07:44:43.762315",
     "exception": false,
     "start_time": "2025-03-27T07:44:42.765558",
     "status": "completed"
    },
    "tags": []
   },
   "outputs": [
    {
     "name": "stdout",
     "output_type": "stream",
     "text": [
      "Using device: cuda\n"
     ]
    }
   ],
   "source": [
    "device = torch.device(\"cuda\" if torch.cuda.is_available() else \"cpu\")\n",
    "model = KANC_MLP(grid_size=10).to(device)\n",
    "criterion = nn.CrossEntropyLoss()\n",
    "optimizer = optim.Adam(model.parameters(), lr=0.001, weight_decay=0)\n",
    "scheduler = ReduceLROnPlateau(optimizer, mode='min', factor=0.5, patience=2)\n",
    "print(f\"Using device: {device}\")"
   ]
  },
  {
   "cell_type": "code",
   "execution_count": 6,
   "id": "4e414f51",
   "metadata": {
    "execution": {
     "iopub.execute_input": "2025-03-27T07:44:43.773977Z",
     "iopub.status.busy": "2025-03-27T07:44:43.773729Z",
     "iopub.status.idle": "2025-03-27T13:13:01.200524Z",
     "shell.execute_reply": "2025-03-27T13:13:01.199329Z"
    },
    "papermill": {
     "duration": 19697.441012,
     "end_time": "2025-03-27T13:13:01.208887",
     "exception": false,
     "start_time": "2025-03-27T07:44:43.767875",
     "status": "completed"
    },
    "tags": []
   },
   "outputs": [
    {
     "name": "stdout",
     "output_type": "stream",
     "text": [
      "Epoch [1/10]\n",
      "Train Loss: 0.7020, Val Loss: 0.5255, Val Accuracy: 80.67%, LR: 0.001000\n",
      "Epoch [2/10]\n",
      "Train Loss: 0.5070, Val Loss: 0.4578, Val Accuracy: 83.22%, LR: 0.001000\n",
      "Epoch [3/10]\n",
      "Train Loss: 0.4569, Val Loss: 0.4339, Val Accuracy: 84.16%, LR: 0.001000\n",
      "Epoch [4/10]\n",
      "Train Loss: 0.4371, Val Loss: 0.4222, Val Accuracy: 84.33%, LR: 0.001000\n",
      "Epoch [5/10]\n",
      "Train Loss: 0.4175, Val Loss: 0.4091, Val Accuracy: 85.01%, LR: 0.001000\n",
      "Epoch [6/10]\n",
      "Train Loss: 0.4021, Val Loss: 0.4013, Val Accuracy: 85.26%, LR: 0.001000\n",
      "Epoch [7/10]\n",
      "Train Loss: 0.3991, Val Loss: 0.4079, Val Accuracy: 85.03%, LR: 0.001000\n",
      "Epoch [8/10]\n",
      "Train Loss: 0.3902, Val Loss: 0.3927, Val Accuracy: 85.48%, LR: 0.001000\n",
      "Epoch [9/10]\n",
      "Train Loss: 0.3861, Val Loss: 0.3794, Val Accuracy: 86.03%, LR: 0.001000\n",
      "Epoch [10/10]\n",
      "Train Loss: 0.3780, Val Loss: 0.3676, Val Accuracy: 86.80%, LR: 0.001000\n"
     ]
    }
   ],
   "source": [
    "epochs = 10\n",
    "train_losses = []\n",
    "val_losses = []\n",
    "val_accuracies = []\n",
    "learning_rates = []\n",
    "\n",
    "for epoch in range(epochs):\n",
    "    model.train()\n",
    "    train_loss = 0.0\n",
    "    for images, labels in train_loader:\n",
    "        images, labels = images.to(device), labels.to(device)\n",
    "        optimizer.zero_grad()\n",
    "        outputs = model(images)\n",
    "        loss = criterion(outputs, labels)\n",
    "        loss.backward()\n",
    "        optimizer.step()\n",
    "        train_loss += loss.item()\n",
    "    \n",
    "    avg_train_loss = train_loss / len(train_loader)\n",
    "    train_losses.append(avg_train_loss)\n",
    "\n",
    "    model.eval()\n",
    "    val_loss = 0.0\n",
    "    correct = 0\n",
    "    total = 0\n",
    "    with torch.no_grad():\n",
    "        for images, labels in val_loader:\n",
    "            images, labels = images.to(device), labels.to(device)\n",
    "            outputs = model(images)\n",
    "            loss = criterion(outputs, labels)\n",
    "            val_loss += loss.item()\n",
    "            _, predicted = torch.max(outputs.data, 1)\n",
    "            total += labels.size(0)\n",
    "            correct += (predicted == labels).sum().item()\n",
    "    \n",
    "    avg_val_loss = val_loss / len(val_loader)\n",
    "    val_accuracy = 100 * correct / total\n",
    "    val_losses.append(avg_val_loss)\n",
    "    val_accuracies.append(val_accuracy)\n",
    "\n",
    "    current_lr = optimizer.param_groups[0]['lr']\n",
    "    learning_rates.append(current_lr)\n",
    "    scheduler.step(avg_val_loss)\n",
    "\n",
    "    print(f\"Epoch [{epoch+1}/{epochs}]\")\n",
    "    print(f\"Train Loss: {avg_train_loss:.4f}, Val Loss: {avg_val_loss:.4f}, Val Accuracy: {val_accuracy:.2f}%, LR: {current_lr:.6f}\")"
   ]
  },
  {
   "cell_type": "code",
   "execution_count": 7,
   "id": "5748ff21",
   "metadata": {
    "execution": {
     "iopub.execute_input": "2025-03-27T13:13:01.222183Z",
     "iopub.status.busy": "2025-03-27T13:13:01.221918Z",
     "iopub.status.idle": "2025-03-27T13:15:09.336151Z",
     "shell.execute_reply": "2025-03-27T13:15:09.335255Z"
    },
    "papermill": {
     "duration": 128.122873,
     "end_time": "2025-03-27T13:15:09.337792",
     "exception": false,
     "start_time": "2025-03-27T13:13:01.214919",
     "status": "completed"
    },
    "tags": []
   },
   "outputs": [
    {
     "name": "stdout",
     "output_type": "stream",
     "text": [
      "\n",
      "Test set:\n",
      "Accuracy: 87.66%\n",
      "Precision: 0.88\n",
      "Recall: 0.88\n",
      "F1 Score: 0.88\n"
     ]
    },
    {
     "data": {
      "image/png": "[encoded data removed]",
      "text/plain": [
       "<Figure size 1800x400 with 3 Axes>"
      ]
     },
     "metadata": {},
     "output_type": "display_data"
    }
   ],
   "source": [
    "model.eval()\n",
    "test_loss = 0\n",
    "correct = 0\n",
    "all_targets = []\n",
    "all_predictions = []\n",
    "\n",
    "with torch.no_grad():\n",
    "    for images, labels in test_loader:\n",
    "        images, labels = images.to(device), labels.to(device)\n",
    "        outputs = model(images)\n",
    "        test_loss += criterion(outputs, labels).item()\n",
    "        _, predicted = torch.max(outputs.data, 1)\n",
    "        correct += (labels == predicted).sum().item()\n",
    "        all_targets.extend(labels.cpu().numpy())\n",
    "        all_predictions.extend(predicted.cpu().numpy())\n",
    "\n",
    "test_loss /= len(test_loader.dataset)\n",
    "accuracy = 100 * correct / len(test_loader.dataset)\n",
    "precision = precision_score(all_targets, all_predictions, average='macro')\n",
    "recall = recall_score(all_targets, all_predictions, average='macro')\n",
    "f1 = f1_score(all_targets, all_predictions, average='macro')\n",
    "\n",
    "print('\\nTest set:')\n",
    "print(f'Accuracy: {accuracy:.2f}%')\n",
    "print(f'Precision: {precision:.2f}')\n",
    "print(f'Recall: {recall:.2f}')\n",
    "print(f'F1 Score: {f1:.2f}')\n",
    "\n",
    "plt.figure(figsize=(18, 4))\n",
    "plt.subplot(1, 3, 1)\n",
    "plt.plot(train_losses, label='Train Loss')\n",
    "plt.plot(val_losses, label='Validation Loss')\n",
    "plt.xlabel('Epoch')\n",
    "plt.ylabel('Loss')\n",
    "plt.legend()\n",
    "plt.title('Training and Validation Loss')\n",
    "plt.subplot(1, 3, 2)\n",
    "plt.plot(val_accuracies, label='Validation Accuracy')\n",
    "plt.xlabel('Epoch')\n",
    "plt.ylabel('Accuracy (%)')\n",
    "plt.legend()\n",
    "plt.title('Validation Accuracy')\n",
    "plt.subplot(1, 3, 3)\n",
    "plt.plot(learning_rates, label='Learning Rate')\n",
    "plt.xlabel('Epoch')\n",
    "plt.ylabel('Learning Rate')\n",
    "plt.legend()\n",
    "plt.title('Learning Rate Schedule')\n",
    "plt.tight_layout()\n",
    "plt.show()"
   ]
  }
 ],
 "metadata": {
  "kaggle": {
   "accelerator": "gpu",
   "dataSources": [],
   "dockerImageVersionId": 30919,
   "isGpuEnabled": true,
   "isInternetEnabled": true,
   "language": "python",
   "sourceType": "notebook"
  },
  "kernelspec": {
   "display_name": "Python 3",
   "language": "python",
   "name": "python3"
  },
  "language_info": {
   "codemirror_mode": {
    "name": "ipython",
    "version": 3
   },
   "file_extension": ".py",
   "mimetype": "text/x-python",
   "name": "python",
   "nbconvert_exporter": "python",
   "pygments_lexer": "ipython3",
   "version": "3.10.12"
  },
  "papermill": {
   "default_parameters": {},
   "duration": 19848.83229,
   "end_time": "2025-03-27T13:15:10.985296",
   "environment_variables": {},
   "exception": null,
   "input_path": "__notebook__.ipynb",
   "output_path": "__notebook__.ipynb",
   "parameters": {},
   "start_time": "2025-03-27T07:44:22.153006",
   "version": "2.6.0"
  }
 },
 "nbformat": 4,
 "nbformat_minor": 5
}
